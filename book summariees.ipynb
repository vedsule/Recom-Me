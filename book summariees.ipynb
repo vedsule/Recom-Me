{
 "cells": [
  {
   "cell_type": "code",
   "execution_count": 1,
   "id": "d979208c",
   "metadata": {},
   "outputs": [],
   "source": [
    "import pandas as pd\n"
   ]
  },
  {
   "cell_type": "code",
   "execution_count": 2,
   "id": "b7dea6f1",
   "metadata": {},
   "outputs": [],
   "source": [
    "books = pd.read_csv(\"booksummaries.txt\", delimiter = \"\\t\" )"
   ]
  },
  {
   "cell_type": "code",
   "execution_count": null,
   "id": "73fcd53e",
   "metadata": {},
   "outputs": [],
   "source": []
  },
  {
   "cell_type": "code",
   "execution_count": 3,
   "id": "d116fee8",
   "metadata": {},
   "outputs": [],
   "source": [
    "books.columns = [\"WikiID\", \"FreebaseID\", \"Title\", \"Author\", \"PubDate\", \"OrgGenre\", \"OrgSummary\"]"
   ]
  },
  {
   "cell_type": "code",
   "execution_count": 4,
   "id": "97c3ced3",
   "metadata": {},
   "outputs": [
    {
     "data": {
      "text/html": [
       "<div>\n",
       "<style scoped>\n",
       "    .dataframe tbody tr th:only-of-type {\n",
       "        vertical-align: middle;\n",
       "    }\n",
       "\n",
       "    .dataframe tbody tr th {\n",
       "        vertical-align: top;\n",
       "    }\n",
       "\n",
       "    .dataframe thead th {\n",
       "        text-align: right;\n",
       "    }\n",
       "</style>\n",
       "<table border=\"1\" class=\"dataframe\">\n",
       "  <thead>\n",
       "    <tr style=\"text-align: right;\">\n",
       "      <th></th>\n",
       "      <th>WikiID</th>\n",
       "      <th>FreebaseID</th>\n",
       "      <th>Title</th>\n",
       "      <th>Author</th>\n",
       "      <th>PubDate</th>\n",
       "      <th>OrgGenre</th>\n",
       "      <th>OrgSummary</th>\n",
       "    </tr>\n",
       "  </thead>\n",
       "  <tbody>\n",
       "    <tr>\n",
       "      <th>0</th>\n",
       "      <td>843</td>\n",
       "      <td>/m/0k36</td>\n",
       "      <td>A Clockwork Orange</td>\n",
       "      <td>Anthony Burgess</td>\n",
       "      <td>1962</td>\n",
       "      <td>{\"/m/06n90\": \"Science Fiction\", \"/m/0l67h\": \"N...</td>\n",
       "      <td>Alex, a teenager living in near-future Englan...</td>\n",
       "    </tr>\n",
       "    <tr>\n",
       "      <th>1</th>\n",
       "      <td>986</td>\n",
       "      <td>/m/0ldx</td>\n",
       "      <td>The Plague</td>\n",
       "      <td>Albert Camus</td>\n",
       "      <td>1947</td>\n",
       "      <td>{\"/m/02m4t\": \"Existentialism\", \"/m/02xlf\": \"Fi...</td>\n",
       "      <td>The text of The Plague is divided into five p...</td>\n",
       "    </tr>\n",
       "    <tr>\n",
       "      <th>2</th>\n",
       "      <td>1756</td>\n",
       "      <td>/m/0sww</td>\n",
       "      <td>An Enquiry Concerning Human Understanding</td>\n",
       "      <td>David Hume</td>\n",
       "      <td>NaN</td>\n",
       "      <td>NaN</td>\n",
       "      <td>The argument of the Enquiry proceeds by a ser...</td>\n",
       "    </tr>\n",
       "    <tr>\n",
       "      <th>3</th>\n",
       "      <td>2080</td>\n",
       "      <td>/m/0wkt</td>\n",
       "      <td>A Fire Upon the Deep</td>\n",
       "      <td>Vernor Vinge</td>\n",
       "      <td>NaN</td>\n",
       "      <td>{\"/m/03lrw\": \"Hard science fiction\", \"/m/06n90...</td>\n",
       "      <td>The novel posits that space around the Milky ...</td>\n",
       "    </tr>\n",
       "    <tr>\n",
       "      <th>4</th>\n",
       "      <td>2152</td>\n",
       "      <td>/m/0x5g</td>\n",
       "      <td>All Quiet on the Western Front</td>\n",
       "      <td>Erich Maria Remarque</td>\n",
       "      <td>1929-01-29</td>\n",
       "      <td>{\"/m/098tmk\": \"War novel\", \"/m/016lj8\": \"Roman...</td>\n",
       "      <td>The book tells the story of Paul Bäumer, a Ge...</td>\n",
       "    </tr>\n",
       "  </tbody>\n",
       "</table>\n",
       "</div>"
      ],
      "text/plain": [
       "   WikiID FreebaseID                                      Title  \\\n",
       "0     843    /m/0k36                         A Clockwork Orange   \n",
       "1     986    /m/0ldx                                 The Plague   \n",
       "2    1756    /m/0sww  An Enquiry Concerning Human Understanding   \n",
       "3    2080    /m/0wkt                       A Fire Upon the Deep   \n",
       "4    2152    /m/0x5g             All Quiet on the Western Front   \n",
       "\n",
       "                 Author     PubDate  \\\n",
       "0       Anthony Burgess        1962   \n",
       "1          Albert Camus        1947   \n",
       "2            David Hume         NaN   \n",
       "3          Vernor Vinge         NaN   \n",
       "4  Erich Maria Remarque  1929-01-29   \n",
       "\n",
       "                                            OrgGenre  \\\n",
       "0  {\"/m/06n90\": \"Science Fiction\", \"/m/0l67h\": \"N...   \n",
       "1  {\"/m/02m4t\": \"Existentialism\", \"/m/02xlf\": \"Fi...   \n",
       "2                                                NaN   \n",
       "3  {\"/m/03lrw\": \"Hard science fiction\", \"/m/06n90...   \n",
       "4  {\"/m/098tmk\": \"War novel\", \"/m/016lj8\": \"Roman...   \n",
       "\n",
       "                                          OrgSummary  \n",
       "0   Alex, a teenager living in near-future Englan...  \n",
       "1   The text of The Plague is divided into five p...  \n",
       "2   The argument of the Enquiry proceeds by a ser...  \n",
       "3   The novel posits that space around the Milky ...  \n",
       "4   The book tells the story of Paul Bäumer, a Ge...  "
      ]
     },
     "execution_count": 4,
     "metadata": {},
     "output_type": "execute_result"
    }
   ],
   "source": [
    "books.head()"
   ]
  },
  {
   "cell_type": "code",
   "execution_count": 5,
   "id": "c77f9da8",
   "metadata": {},
   "outputs": [
    {
     "name": "stdout",
     "output_type": "stream",
     "text": [
      "<class 'pandas.core.frame.DataFrame'>\n",
      "RangeIndex: 16558 entries, 0 to 16557\n",
      "Data columns (total 7 columns):\n",
      " #   Column      Non-Null Count  Dtype \n",
      "---  ------      --------------  ----- \n",
      " 0   WikiID      16558 non-null  int64 \n",
      " 1   FreebaseID  16558 non-null  object\n",
      " 2   Title       16558 non-null  object\n",
      " 3   Author      14176 non-null  object\n",
      " 4   PubDate     10948 non-null  object\n",
      " 5   OrgGenre    12840 non-null  object\n",
      " 6   OrgSummary  16558 non-null  object\n",
      "dtypes: int64(1), object(6)\n",
      "memory usage: 905.6+ KB\n"
     ]
    }
   ],
   "source": [
    "books.info()"
   ]
  },
  {
   "cell_type": "code",
   "execution_count": 6,
   "id": "d66cc01f",
   "metadata": {},
   "outputs": [
    {
     "data": {
      "text/plain": [
       "WikiID           0\n",
       "FreebaseID       0\n",
       "Title            0\n",
       "Author        2382\n",
       "PubDate       5610\n",
       "OrgGenre      3718\n",
       "OrgSummary       0\n",
       "dtype: int64"
      ]
     },
     "execution_count": 6,
     "metadata": {},
     "output_type": "execute_result"
    }
   ],
   "source": [
    "books.isnull().sum()"
   ]
  },
  {
   "cell_type": "code",
   "execution_count": 7,
   "id": "bbaa99e2",
   "metadata": {},
   "outputs": [
    {
     "data": {
      "text/plain": [
       "WikiID           0\n",
       "FreebaseID       0\n",
       "Title            0\n",
       "Author        2382\n",
       "PubDate       5610\n",
       "OrgGenre      3718\n",
       "OrgSummary       0\n",
       "dtype: int64"
      ]
     },
     "execution_count": 7,
     "metadata": {},
     "output_type": "execute_result"
    }
   ],
   "source": [
    "books.isna().sum()"
   ]
  },
  {
   "cell_type": "code",
   "execution_count": 8,
   "id": "d486f03f",
   "metadata": {},
   "outputs": [
    {
     "data": {
      "text/plain": [
       "0"
      ]
     },
     "execution_count": 8,
     "metadata": {},
     "output_type": "execute_result"
    }
   ],
   "source": [
    "books.WikiID.duplicated().sum()"
   ]
  },
  {
   "cell_type": "code",
   "execution_count": 9,
   "id": "c9e2f10f",
   "metadata": {},
   "outputs": [
    {
     "data": {
      "text/plain": [
       "282"
      ]
     },
     "execution_count": 9,
     "metadata": {},
     "output_type": "execute_result"
    }
   ],
   "source": [
    "books.Title.duplicated().sum()"
   ]
  },
  {
   "cell_type": "code",
   "execution_count": 10,
   "id": "4a5bb178",
   "metadata": {},
   "outputs": [],
   "source": [
    "books = books.drop(columns = \"FreebaseID\")"
   ]
  },
  {
   "cell_type": "code",
   "execution_count": 11,
   "id": "58ee96be",
   "metadata": {},
   "outputs": [
    {
     "name": "stdout",
     "output_type": "stream",
     "text": [
      "39                              Genesis\n",
      "199                        Ender's Game\n",
      "1458                         Earthlight\n",
      "4905     Mr. Monk Goes to the Firehouse\n",
      "5905                         Earthlight\n",
      "7083                           The Keep\n",
      "7087                           The Keep\n",
      "9475                          Peter Pan\n",
      "11312                      Ender's Game\n",
      "11638                      Killing Time\n",
      "12619                      Killing Time\n",
      "12737                         Peter Pan\n",
      "13645    Mr. Monk Goes to the Firehouse\n",
      "13930                           Genesis\n",
      "16088                            Wither\n",
      "16089                            Wither\n",
      "Name: Title, dtype: object\n"
     ]
    }
   ],
   "source": [
    "books_dup = books[books[[\"Title\",\"Author\"]].duplicated(keep = False)]\n",
    "print(books_dup[\"Title\"])\n",
    "    "
   ]
  },
  {
   "cell_type": "code",
   "execution_count": 12,
   "id": "b09de995",
   "metadata": {},
   "outputs": [
    {
     "data": {
      "text/plain": [
       "' German soldiers and SS Einsatzkommandos alike are being slowly killed off in a mysterious castle (the \"Keep\" of the title) high in the Carpathian Mountains of Romania in April 1941. A Jewish History Professor living in Bucharest, Theodore Cuza, and his daughter Magda, are collected and delivered to the keep in a desperate effort by SS Sturmbannfuhrer Eric Kaempffer to find out what it is that is murdering the men and put a stop to it by any means necessary. The professor is useful in translating a mysterious message that has been written in blood on a wall of the keep in a forgotten dialect of Old Romanian or Old Slavonic. He is also tasked with finding a method of defeating the unknown evil that is wreaking havoc. This evil entity, which calls itself \"Molasar\", sees a certain usefulness in Professor Cuza and procures his services through deception and false promises. Molasar is later revealed to be Rasalom, an ancient sorcerer from the \"First Age\" of humans. Shortly, a reluctant champion of the ancient Forces of Light appears; an immortal man calling himself \"Glenn\", but whose real name is Glaeken. He built the Keep as a prison for Rasalom out of the reluctance to kill him outright. The two beings are mystically linked in a way that binds their destinies together, even though Rasalom\\'s supernatural abilities vastly outmatch Glenn\\'s innate abilities. Magda and Glenn meet and develop a relationship which quickly becomes romantic as Professor Cuza manipulates the German SS into arresting Glenn and bringing him into the Keep where he will be vulnerable to Rasalom\\'s ever-increasing power. The scheme fails when Magda rescues Glenn from dying by bringing him his healing power-sword after he is riddled with bullets. Professor Cuza, meanwhile, is excitedly carrying Glenn\\'s Talisman through the lower levels of Rasalom\\'s 500-year-old prison and upwards toward the surface where the Professor plans to re-bury it according to Rasalom\\'s instructions. Magda leaves Glenn to recuperate while intervening with her misguided father to keep him from crossing the perimeter of the fortress area, giving Glenn just enough time to arrive on scene where, after joining the Talisman to his power-sword, he is able to drive Rasalom backwards into the depths of the keep. Rasalom then uses his telekinetic abilities to launch an overwhelming assault against Glenn. Finally, Glenn prevails as Rasalom rashly launches himself bodily at his age-old enemy and is reduced to ashes by a single stroke from Glenn\\'s sword. Glenn himself plummets onto the craggy rocks below as Rasalom\\'s body decays into nothingness. However he reawakens to discover that he is now mortal, having vanquished his long-time foe, and he and Magda are reunited.'"
      ]
     },
     "execution_count": 12,
     "metadata": {},
     "output_type": "execute_result"
    }
   ],
   "source": [
    "books.iloc[7083,5]"
   ]
  },
  {
   "cell_type": "code",
   "execution_count": 13,
   "id": "aa4fba9f",
   "metadata": {},
   "outputs": [
    {
     "data": {
      "text/plain": [
       "' The Keep had stood empty in the Transylvanian Alps for some 500 years. No one knew who built it, or why. But on the eve of World War II, German soldiers moved in and awoke something—something hungry… something more merciless than the SS einsatzkommandos accompanying them.'"
      ]
     },
     "execution_count": 13,
     "metadata": {},
     "output_type": "execute_result"
    }
   ],
   "source": [
    "books.iloc[7087,5]"
   ]
  },
  {
   "cell_type": "markdown",
   "id": "a00676a9",
   "metadata": {},
   "source": [
    "for i in range(len(books)):\n",
    "    for j in range(len(books)) :\n",
    "        if ( books.iloc[i,books.columns.get_loc(\"Title\")] == books.iloc[j,books.columns.get_loc(\"Title\")]  and books.iloc[i,books.columns.get_loc(\"Author\")] == books.iloc[j,books.columns.get_loc(\"Author\")] ) :\n",
    "            dup_with_author.append(books.iloc[i])\n",
    "               pd.isna( books.iloc[2,books.columns.get_loc(\"Author\")]) == True\n",
    "              \n"
   ]
  },
  {
   "cell_type": "code",
   "execution_count": 14,
   "id": "fdf17888",
   "metadata": {},
   "outputs": [
    {
     "data": {
      "text/plain": [
       "'F. Paul Wilson'"
      ]
     },
     "execution_count": 14,
     "metadata": {},
     "output_type": "execute_result"
    }
   ],
   "source": [
    "books.iloc[7087,books.columns.get_loc(\"Author\")]"
   ]
  },
  {
   "cell_type": "code",
   "execution_count": 15,
   "id": "03e7c630",
   "metadata": {},
   "outputs": [
    {
     "data": {
      "text/plain": [
       "False"
      ]
     },
     "execution_count": 15,
     "metadata": {},
     "output_type": "execute_result"
    }
   ],
   "source": [
    "pd.isna( books.iloc[2,books.columns.get_loc(\"Author\")])"
   ]
  },
  {
   "cell_type": "code",
   "execution_count": 16,
   "id": "df5a2a2f",
   "metadata": {},
   "outputs": [],
   "source": [
    "df = pd.DataFrame()"
   ]
  },
  {
   "cell_type": "code",
   "execution_count": 17,
   "id": "c3c4b4af",
   "metadata": {},
   "outputs": [
    {
     "data": {
      "text/html": [
       "<div>\n",
       "<style scoped>\n",
       "    .dataframe tbody tr th:only-of-type {\n",
       "        vertical-align: middle;\n",
       "    }\n",
       "\n",
       "    .dataframe tbody tr th {\n",
       "        vertical-align: top;\n",
       "    }\n",
       "\n",
       "    .dataframe thead th {\n",
       "        text-align: right;\n",
       "    }\n",
       "</style>\n",
       "<table border=\"1\" class=\"dataframe\">\n",
       "  <thead>\n",
       "    <tr style=\"text-align: right;\">\n",
       "      <th></th>\n",
       "      <th>WikiID</th>\n",
       "      <th>Title</th>\n",
       "      <th>Author</th>\n",
       "      <th>PubDate</th>\n",
       "      <th>OrgGenre</th>\n",
       "      <th>OrgSummary</th>\n",
       "    </tr>\n",
       "  </thead>\n",
       "  <tbody>\n",
       "    <tr>\n",
       "      <th>7087</th>\n",
       "      <td>6035643</td>\n",
       "      <td>The Keep</td>\n",
       "      <td>F. Paul Wilson</td>\n",
       "      <td>NaN</td>\n",
       "      <td>{\"/m/03npn\": \"Horror\", \"/m/02xlf\": \"Fiction\", ...</td>\n",
       "      <td>The Keep had stood empty in the Transylvanian...</td>\n",
       "    </tr>\n",
       "  </tbody>\n",
       "</table>\n",
       "</div>"
      ],
      "text/plain": [
       "       WikiID     Title          Author PubDate  \\\n",
       "7087  6035643  The Keep  F. Paul Wilson     NaN   \n",
       "\n",
       "                                               OrgGenre  \\\n",
       "7087  {\"/m/03npn\": \"Horror\", \"/m/02xlf\": \"Fiction\", ...   \n",
       "\n",
       "                                             OrgSummary  \n",
       "7087   The Keep had stood empty in the Transylvanian...  "
      ]
     },
     "execution_count": 17,
     "metadata": {},
     "output_type": "execute_result"
    }
   ],
   "source": [
    "df = pd.concat([df , books.iloc[[7087]] ])\n",
    "df"
   ]
  },
  {
   "cell_type": "code",
   "execution_count": 18,
   "id": "18c9a905",
   "metadata": {},
   "outputs": [
    {
     "data": {
      "text/html": [
       "<div>\n",
       "<style scoped>\n",
       "    .dataframe tbody tr th:only-of-type {\n",
       "        vertical-align: middle;\n",
       "    }\n",
       "\n",
       "    .dataframe tbody tr th {\n",
       "        vertical-align: top;\n",
       "    }\n",
       "\n",
       "    .dataframe thead th {\n",
       "        text-align: right;\n",
       "    }\n",
       "</style>\n",
       "<table border=\"1\" class=\"dataframe\">\n",
       "  <thead>\n",
       "    <tr style=\"text-align: right;\">\n",
       "      <th></th>\n",
       "      <th>WikiID</th>\n",
       "      <th>Title</th>\n",
       "      <th>Author</th>\n",
       "      <th>PubDate</th>\n",
       "      <th>OrgGenre</th>\n",
       "      <th>OrgSummary</th>\n",
       "    </tr>\n",
       "  </thead>\n",
       "  <tbody>\n",
       "    <tr>\n",
       "      <th>7087</th>\n",
       "      <td>6035643</td>\n",
       "      <td>The Keep</td>\n",
       "      <td>F. Paul Wilson</td>\n",
       "      <td>NaN</td>\n",
       "      <td>{\"/m/03npn\": \"Horror\", \"/m/02xlf\": \"Fiction\", ...</td>\n",
       "      <td>The Keep had stood empty in the Transylvanian...</td>\n",
       "    </tr>\n",
       "  </tbody>\n",
       "</table>\n",
       "</div>"
      ],
      "text/plain": [
       "       WikiID     Title          Author PubDate  \\\n",
       "7087  6035643  The Keep  F. Paul Wilson     NaN   \n",
       "\n",
       "                                               OrgGenre  \\\n",
       "7087  {\"/m/03npn\": \"Horror\", \"/m/02xlf\": \"Fiction\", ...   \n",
       "\n",
       "                                             OrgSummary  \n",
       "7087   The Keep had stood empty in the Transylvanian...  "
      ]
     },
     "execution_count": 18,
     "metadata": {},
     "output_type": "execute_result"
    }
   ],
   "source": [
    "df3 = books.iloc[[7087]]\n",
    "df3"
   ]
  },
  {
   "cell_type": "code",
   "execution_count": 19,
   "id": "12d58d53",
   "metadata": {},
   "outputs": [
    {
     "data": {
      "text/plain": [
       "WikiID           0\n",
       "Title            0\n",
       "Author        2382\n",
       "PubDate       5610\n",
       "OrgGenre      3718\n",
       "OrgSummary       0\n",
       "dtype: int64"
      ]
     },
     "execution_count": 19,
     "metadata": {},
     "output_type": "execute_result"
    }
   ],
   "source": [
    "books.isnull().sum()"
   ]
  },
  {
   "cell_type": "code",
   "execution_count": 20,
   "id": "1579b0d9",
   "metadata": {},
   "outputs": [
    {
     "data": {
      "text/plain": [
       "Author      2382\n",
       "PubDate     5610\n",
       "OrgGenre    3718\n",
       "dtype: int64"
      ]
     },
     "execution_count": 20,
     "metadata": {},
     "output_type": "execute_result"
    }
   ],
   "source": [
    "books[[\"Author\", \"PubDate\", \"OrgGenre\"]].isnull().sum()"
   ]
  },
  {
   "cell_type": "code",
   "execution_count": 21,
   "id": "9277f592",
   "metadata": {},
   "outputs": [],
   "source": [
    "i = 0 \n",
    "books_3null = pd.DataFrame()\n",
    "for i in range(len(books)) :\n",
    "    if  ( pd.isna( books.iloc[i,books.columns.get_loc(\"Author\")]) and \n",
    "          pd.isna( books.iloc[i,books.columns.get_loc(\"PubDate\")]) and \n",
    "          pd.isna( books.iloc[i,books.columns.get_loc(\"OrgGenre\")]) ) :\n",
    "        books_3null = pd.concat([books_3null , books.iloc[[i]] ] )"
   ]
  },
  {
   "cell_type": "code",
   "execution_count": 22,
   "id": "594ec5fd",
   "metadata": {},
   "outputs": [
    {
     "data": {
      "text/html": [
       "<div>\n",
       "<style scoped>\n",
       "    .dataframe tbody tr th:only-of-type {\n",
       "        vertical-align: middle;\n",
       "    }\n",
       "\n",
       "    .dataframe tbody tr th {\n",
       "        vertical-align: top;\n",
       "    }\n",
       "\n",
       "    .dataframe thead th {\n",
       "        text-align: right;\n",
       "    }\n",
       "</style>\n",
       "<table border=\"1\" class=\"dataframe\">\n",
       "  <thead>\n",
       "    <tr style=\"text-align: right;\">\n",
       "      <th></th>\n",
       "      <th>WikiID</th>\n",
       "      <th>Title</th>\n",
       "      <th>Author</th>\n",
       "      <th>PubDate</th>\n",
       "      <th>OrgGenre</th>\n",
       "      <th>OrgSummary</th>\n",
       "    </tr>\n",
       "  </thead>\n",
       "  <tbody>\n",
       "    <tr>\n",
       "      <th>9</th>\n",
       "      <td>4331</td>\n",
       "      <td>Book of Joshua</td>\n",
       "      <td>NaN</td>\n",
       "      <td>NaN</td>\n",
       "      <td>NaN</td>\n",
       "      <td>(Chapter 1 is the first of three important mo...</td>\n",
       "    </tr>\n",
       "    <tr>\n",
       "      <th>10</th>\n",
       "      <td>4332</td>\n",
       "      <td>Book of Ezra</td>\n",
       "      <td>NaN</td>\n",
       "      <td>NaN</td>\n",
       "      <td>NaN</td>\n",
       "      <td>For the Bible text, see Bible Gateway (opens ...</td>\n",
       "    </tr>\n",
       "    <tr>\n",
       "      <th>11</th>\n",
       "      <td>4376</td>\n",
       "      <td>Book of Numbers</td>\n",
       "      <td>NaN</td>\n",
       "      <td>NaN</td>\n",
       "      <td>NaN</td>\n",
       "      <td>God orders Moses, in the wilderness of Sinai,...</td>\n",
       "    </tr>\n",
       "    <tr>\n",
       "      <th>12</th>\n",
       "      <td>4381</td>\n",
       "      <td>Book of Ruth</td>\n",
       "      <td>NaN</td>\n",
       "      <td>NaN</td>\n",
       "      <td>NaN</td>\n",
       "      <td>During the time of the Judges when there was ...</td>\n",
       "    </tr>\n",
       "    <tr>\n",
       "      <th>13</th>\n",
       "      <td>4382</td>\n",
       "      <td>Book of Esther</td>\n",
       "      <td>NaN</td>\n",
       "      <td>NaN</td>\n",
       "      <td>NaN</td>\n",
       "      <td>Ahasuerus, ruler of a massive Persian empire,...</td>\n",
       "    </tr>\n",
       "    <tr>\n",
       "      <th>...</th>\n",
       "      <td>...</td>\n",
       "      <td>...</td>\n",
       "      <td>...</td>\n",
       "      <td>...</td>\n",
       "      <td>...</td>\n",
       "      <td>...</td>\n",
       "    </tr>\n",
       "    <tr>\n",
       "      <th>16438</th>\n",
       "      <td>33944298</td>\n",
       "      <td>Rogue Leaders: The Story of LucasArts</td>\n",
       "      <td>NaN</td>\n",
       "      <td>NaN</td>\n",
       "      <td>NaN</td>\n",
       "      <td>The book aims to tell the history of the firs...</td>\n",
       "    </tr>\n",
       "    <tr>\n",
       "      <th>16452</th>\n",
       "      <td>34052275</td>\n",
       "      <td>La inocencia castigada</td>\n",
       "      <td>NaN</td>\n",
       "      <td>NaN</td>\n",
       "      <td>NaN</td>\n",
       "      <td>Don Diego, a womanizing knight, falls in love...</td>\n",
       "    </tr>\n",
       "    <tr>\n",
       "      <th>16463</th>\n",
       "      <td>34183501</td>\n",
       "      <td>Ente Katha</td>\n",
       "      <td>NaN</td>\n",
       "      <td>NaN</td>\n",
       "      <td>NaN</td>\n",
       "      <td>This book is about Aami (Kamala), starting fr...</td>\n",
       "    </tr>\n",
       "    <tr>\n",
       "      <th>16539</th>\n",
       "      <td>35802230</td>\n",
       "      <td>De vierde man</td>\n",
       "      <td>NaN</td>\n",
       "      <td>NaN</td>\n",
       "      <td>NaN</td>\n",
       "      <td>The novel is a frame narrative: a writer name...</td>\n",
       "    </tr>\n",
       "    <tr>\n",
       "      <th>16542</th>\n",
       "      <td>36043883</td>\n",
       "      <td>Family</td>\n",
       "      <td>NaN</td>\n",
       "      <td>NaN</td>\n",
       "      <td>NaN</td>\n",
       "      <td>The Family focuses on three brothers from the...</td>\n",
       "    </tr>\n",
       "  </tbody>\n",
       "</table>\n",
       "<p>1329 rows × 6 columns</p>\n",
       "</div>"
      ],
      "text/plain": [
       "         WikiID                                  Title Author PubDate  \\\n",
       "9          4331                         Book of Joshua    NaN     NaN   \n",
       "10         4332                           Book of Ezra    NaN     NaN   \n",
       "11         4376                        Book of Numbers    NaN     NaN   \n",
       "12         4381                           Book of Ruth    NaN     NaN   \n",
       "13         4382                         Book of Esther    NaN     NaN   \n",
       "...         ...                                    ...    ...     ...   \n",
       "16438  33944298  Rogue Leaders: The Story of LucasArts    NaN     NaN   \n",
       "16452  34052275                 La inocencia castigada    NaN     NaN   \n",
       "16463  34183501                             Ente Katha    NaN     NaN   \n",
       "16539  35802230                          De vierde man    NaN     NaN   \n",
       "16542  36043883                                 Family    NaN     NaN   \n",
       "\n",
       "      OrgGenre                                         OrgSummary  \n",
       "9          NaN   (Chapter 1 is the first of three important mo...  \n",
       "10         NaN   For the Bible text, see Bible Gateway (opens ...  \n",
       "11         NaN   God orders Moses, in the wilderness of Sinai,...  \n",
       "12         NaN   During the time of the Judges when there was ...  \n",
       "13         NaN   Ahasuerus, ruler of a massive Persian empire,...  \n",
       "...        ...                                                ...  \n",
       "16438      NaN   The book aims to tell the history of the firs...  \n",
       "16452      NaN   Don Diego, a womanizing knight, falls in love...  \n",
       "16463      NaN   This book is about Aami (Kamala), starting fr...  \n",
       "16539      NaN   The novel is a frame narrative: a writer name...  \n",
       "16542      NaN   The Family focuses on three brothers from the...  \n",
       "\n",
       "[1329 rows x 6 columns]"
      ]
     },
     "execution_count": 22,
     "metadata": {},
     "output_type": "execute_result"
    }
   ],
   "source": [
    "books_3null"
   ]
  },
  {
   "cell_type": "code",
   "execution_count": 23,
   "id": "6ac3ef53",
   "metadata": {},
   "outputs": [],
   "source": [
    "# i will not remove this ,\n",
    "# 1. ill find the CaculatedGenre from summary\n",
    "# 2. ill find the Author and PubDate using webscraping ."
   ]
  },
  {
   "cell_type": "code",
   "execution_count": 24,
   "id": "b9692fd6",
   "metadata": {},
   "outputs": [],
   "source": [
    "# converting genre into clean ( originally its in json)"
   ]
  },
  {
   "cell_type": "code",
   "execution_count": 25,
   "id": "086063ec",
   "metadata": {},
   "outputs": [],
   "source": [
    "import json\n",
    "test = books\n"
   ]
  },
  {
   "cell_type": "code",
   "execution_count": 26,
   "id": "d18cddd5",
   "metadata": {},
   "outputs": [
    {
     "data": {
      "text/plain": [
       "Author      2382\n",
       "PubDate     5610\n",
       "OrgGenre    3718\n",
       "dtype: int64"
      ]
     },
     "execution_count": 26,
     "metadata": {},
     "output_type": "execute_result"
    }
   ],
   "source": [
    "test[[\"Author\", \"PubDate\", \"OrgGenre\"]].isnull().sum()"
   ]
  },
  {
   "cell_type": "code",
   "execution_count": 27,
   "id": "72f25eb2",
   "metadata": {},
   "outputs": [],
   "source": [
    "test = test.fillna(\" \")"
   ]
  },
  {
   "cell_type": "code",
   "execution_count": 28,
   "id": "9d0b7d5c",
   "metadata": {},
   "outputs": [
    {
     "data": {
      "text/plain": [
       "'{\"/m/03lrw\": \"Hard science fiction\", \"/m/06n90\": \"Science Fiction\", \"/m/014dfn\": \"Speculative fiction\", \"/m/01hmnh\": \"Fantasy\", \"/m/02xlf\": \"Fiction\"}'"
      ]
     },
     "execution_count": 28,
     "metadata": {},
     "output_type": "execute_result"
    }
   ],
   "source": [
    "test[\"OrgGenre\"].values[3]"
   ]
  },
  {
   "cell_type": "code",
   "execution_count": 29,
   "id": "1dffe911",
   "metadata": {},
   "outputs": [
    {
     "data": {
      "text/plain": [
       "Author      0\n",
       "PubDate     0\n",
       "OrgGenre    0\n",
       "dtype: int64"
      ]
     },
     "execution_count": 29,
     "metadata": {},
     "output_type": "execute_result"
    }
   ],
   "source": [
    "test[[\"Author\", \"PubDate\", \"OrgGenre\"]].isnull().sum()"
   ]
  },
  {
   "cell_type": "code",
   "execution_count": 30,
   "id": "c81db1f1",
   "metadata": {},
   "outputs": [
    {
     "data": {
      "text/plain": [
       "'{\"/m/03lrw\": \"Hard science fiction\", \"/m/06n90\": \"Science Fiction\", \"/m/014dfn\": \"Speculative fiction\", \"/m/01hmnh\": \"Fantasy\", \"/m/02xlf\": \"Fiction\"}'"
      ]
     },
     "execution_count": 30,
     "metadata": {},
     "output_type": "execute_result"
    }
   ],
   "source": [
    "test[\"OrgGenre\"].values[3]"
   ]
  },
  {
   "cell_type": "code",
   "execution_count": 31,
   "id": "f1ce7e96",
   "metadata": {},
   "outputs": [
    {
     "data": {
      "text/plain": [
       "dict_values(['Hard science fiction', 'Science Fiction', 'Speculative fiction', 'Fantasy', 'Fiction'])"
      ]
     },
     "execution_count": 31,
     "metadata": {},
     "output_type": "execute_result"
    }
   ],
   "source": [
    "test['OrgGenre'] = test['OrgGenre'].astype(\"string\")\n",
    "\n",
    "json.loads(test[\"OrgGenre\"].values[3]).values()"
   ]
  },
  {
   "cell_type": "code",
   "execution_count": 32,
   "id": "9a03f7da",
   "metadata": {},
   "outputs": [],
   "source": [
    "clean = []\n",
    "for i in range(len(test)):\n",
    "    str4 = test[\"OrgGenre\"].values[i]\n",
    "    if str4 != ' ' :\n",
    "        #clean = pd.concat(clean, json.loads(str4).values() )\n",
    "        clean.append(list(json.loads(str4).values()))\n",
    "    else :\n",
    "        #clean = pd.concat(clean, \" \")\n",
    "        clean.append(\" \")"
   ]
  },
  {
   "cell_type": "code",
   "execution_count": 33,
   "id": "66e079d5",
   "metadata": {},
   "outputs": [],
   "source": [
    "# addig this column in our dataset \n",
    "books = books.drop([\"OrgGenre\"], axis = 1)\n"
   ]
  },
  {
   "cell_type": "code",
   "execution_count": 34,
   "id": "39e0b87a",
   "metadata": {},
   "outputs": [],
   "source": [
    "books.insert(4, \"Genre\", clean)"
   ]
  },
  {
   "cell_type": "code",
   "execution_count": 35,
   "id": "7fd48c31",
   "metadata": {},
   "outputs": [
    {
     "data": {
      "text/html": [
       "<div>\n",
       "<style scoped>\n",
       "    .dataframe tbody tr th:only-of-type {\n",
       "        vertical-align: middle;\n",
       "    }\n",
       "\n",
       "    .dataframe tbody tr th {\n",
       "        vertical-align: top;\n",
       "    }\n",
       "\n",
       "    .dataframe thead th {\n",
       "        text-align: right;\n",
       "    }\n",
       "</style>\n",
       "<table border=\"1\" class=\"dataframe\">\n",
       "  <thead>\n",
       "    <tr style=\"text-align: right;\">\n",
       "      <th></th>\n",
       "      <th>WikiID</th>\n",
       "      <th>Title</th>\n",
       "      <th>Author</th>\n",
       "      <th>PubDate</th>\n",
       "      <th>Genre</th>\n",
       "      <th>OrgSummary</th>\n",
       "    </tr>\n",
       "  </thead>\n",
       "  <tbody>\n",
       "    <tr>\n",
       "      <th>0</th>\n",
       "      <td>843</td>\n",
       "      <td>A Clockwork Orange</td>\n",
       "      <td>Anthony Burgess</td>\n",
       "      <td>1962</td>\n",
       "      <td>[Science Fiction, Novella, Speculative fiction...</td>\n",
       "      <td>Alex, a teenager living in near-future Englan...</td>\n",
       "    </tr>\n",
       "    <tr>\n",
       "      <th>1</th>\n",
       "      <td>986</td>\n",
       "      <td>The Plague</td>\n",
       "      <td>Albert Camus</td>\n",
       "      <td>1947</td>\n",
       "      <td>[Existentialism, Fiction, Absurdist fiction, N...</td>\n",
       "      <td>The text of The Plague is divided into five p...</td>\n",
       "    </tr>\n",
       "    <tr>\n",
       "      <th>2</th>\n",
       "      <td>1756</td>\n",
       "      <td>An Enquiry Concerning Human Understanding</td>\n",
       "      <td>David Hume</td>\n",
       "      <td>NaN</td>\n",
       "      <td></td>\n",
       "      <td>The argument of the Enquiry proceeds by a ser...</td>\n",
       "    </tr>\n",
       "    <tr>\n",
       "      <th>3</th>\n",
       "      <td>2080</td>\n",
       "      <td>A Fire Upon the Deep</td>\n",
       "      <td>Vernor Vinge</td>\n",
       "      <td>NaN</td>\n",
       "      <td>[Hard science fiction, Science Fiction, Specul...</td>\n",
       "      <td>The novel posits that space around the Milky ...</td>\n",
       "    </tr>\n",
       "    <tr>\n",
       "      <th>4</th>\n",
       "      <td>2152</td>\n",
       "      <td>All Quiet on the Western Front</td>\n",
       "      <td>Erich Maria Remarque</td>\n",
       "      <td>1929-01-29</td>\n",
       "      <td>[War novel, Roman à clef]</td>\n",
       "      <td>The book tells the story of Paul Bäumer, a Ge...</td>\n",
       "    </tr>\n",
       "  </tbody>\n",
       "</table>\n",
       "</div>"
      ],
      "text/plain": [
       "   WikiID                                      Title                Author  \\\n",
       "0     843                         A Clockwork Orange       Anthony Burgess   \n",
       "1     986                                 The Plague          Albert Camus   \n",
       "2    1756  An Enquiry Concerning Human Understanding            David Hume   \n",
       "3    2080                       A Fire Upon the Deep          Vernor Vinge   \n",
       "4    2152             All Quiet on the Western Front  Erich Maria Remarque   \n",
       "\n",
       "      PubDate                                              Genre  \\\n",
       "0        1962  [Science Fiction, Novella, Speculative fiction...   \n",
       "1        1947  [Existentialism, Fiction, Absurdist fiction, N...   \n",
       "2         NaN                                                      \n",
       "3         NaN  [Hard science fiction, Science Fiction, Specul...   \n",
       "4  1929-01-29                          [War novel, Roman à clef]   \n",
       "\n",
       "                                          OrgSummary  \n",
       "0   Alex, a teenager living in near-future Englan...  \n",
       "1   The text of The Plague is divided into five p...  \n",
       "2   The argument of the Enquiry proceeds by a ser...  \n",
       "3   The novel posits that space around the Milky ...  \n",
       "4   The book tells the story of Paul Bäumer, a Ge...  "
      ]
     },
     "execution_count": 35,
     "metadata": {},
     "output_type": "execute_result"
    }
   ],
   "source": [
    "books.head()"
   ]
  },
  {
   "cell_type": "code",
   "execution_count": 36,
   "id": "9da7abe9",
   "metadata": {},
   "outputs": [],
   "source": [
    "#cleaning summary"
   ]
  },
  {
   "cell_type": "code",
   "execution_count": 37,
   "id": "8c9646c1",
   "metadata": {},
   "outputs": [],
   "source": [
    "import re\n"
   ]
  },
  {
   "cell_type": "code",
   "execution_count": 38,
   "id": "de9a6dfc",
   "metadata": {},
   "outputs": [],
   "source": [
    "def clean_sum (text) :\n",
    "    text = re.sub(\"\\'\", \"\", text)\n",
    "    text = re.sub(\"^a-zA-Z\", \" \", text)\n",
    "    text = ' '.join(text.split())\n",
    "    text = text.lower()\n",
    "    return text\n",
    "    "
   ]
  },
  {
   "cell_type": "code",
   "execution_count": 39,
   "id": "dfd1ad0a",
   "metadata": {},
   "outputs": [],
   "source": [
    "test[\"Summary\"] = test[\"OrgSummary\"].apply(lambda x: clean_sum(x))"
   ]
  },
  {
   "cell_type": "code",
   "execution_count": 40,
   "id": "5f94c4ff",
   "metadata": {},
   "outputs": [],
   "source": [
    "books[\"Summary\"] = test[\"Summary\"]"
   ]
  },
  {
   "cell_type": "code",
   "execution_count": 41,
   "id": "249dba33",
   "metadata": {},
   "outputs": [
    {
     "data": {
      "text/html": [
       "<div>\n",
       "<style scoped>\n",
       "    .dataframe tbody tr th:only-of-type {\n",
       "        vertical-align: middle;\n",
       "    }\n",
       "\n",
       "    .dataframe tbody tr th {\n",
       "        vertical-align: top;\n",
       "    }\n",
       "\n",
       "    .dataframe thead th {\n",
       "        text-align: right;\n",
       "    }\n",
       "</style>\n",
       "<table border=\"1\" class=\"dataframe\">\n",
       "  <thead>\n",
       "    <tr style=\"text-align: right;\">\n",
       "      <th></th>\n",
       "      <th>WikiID</th>\n",
       "      <th>Title</th>\n",
       "      <th>Author</th>\n",
       "      <th>PubDate</th>\n",
       "      <th>Genre</th>\n",
       "      <th>OrgSummary</th>\n",
       "      <th>Summary</th>\n",
       "    </tr>\n",
       "  </thead>\n",
       "  <tbody>\n",
       "    <tr>\n",
       "      <th>0</th>\n",
       "      <td>843</td>\n",
       "      <td>A Clockwork Orange</td>\n",
       "      <td>Anthony Burgess</td>\n",
       "      <td>1962</td>\n",
       "      <td>[Science Fiction, Novella, Speculative fiction...</td>\n",
       "      <td>Alex, a teenager living in near-future Englan...</td>\n",
       "      <td>alex, a teenager living in near-future england...</td>\n",
       "    </tr>\n",
       "    <tr>\n",
       "      <th>1</th>\n",
       "      <td>986</td>\n",
       "      <td>The Plague</td>\n",
       "      <td>Albert Camus</td>\n",
       "      <td>1947</td>\n",
       "      <td>[Existentialism, Fiction, Absurdist fiction, N...</td>\n",
       "      <td>The text of The Plague is divided into five p...</td>\n",
       "      <td>the text of the plague is divided into five pa...</td>\n",
       "    </tr>\n",
       "    <tr>\n",
       "      <th>2</th>\n",
       "      <td>1756</td>\n",
       "      <td>An Enquiry Concerning Human Understanding</td>\n",
       "      <td>David Hume</td>\n",
       "      <td>NaN</td>\n",
       "      <td></td>\n",
       "      <td>The argument of the Enquiry proceeds by a ser...</td>\n",
       "      <td>the argument of the enquiry proceeds by a seri...</td>\n",
       "    </tr>\n",
       "    <tr>\n",
       "      <th>3</th>\n",
       "      <td>2080</td>\n",
       "      <td>A Fire Upon the Deep</td>\n",
       "      <td>Vernor Vinge</td>\n",
       "      <td>NaN</td>\n",
       "      <td>[Hard science fiction, Science Fiction, Specul...</td>\n",
       "      <td>The novel posits that space around the Milky ...</td>\n",
       "      <td>the novel posits that space around the milky w...</td>\n",
       "    </tr>\n",
       "    <tr>\n",
       "      <th>4</th>\n",
       "      <td>2152</td>\n",
       "      <td>All Quiet on the Western Front</td>\n",
       "      <td>Erich Maria Remarque</td>\n",
       "      <td>1929-01-29</td>\n",
       "      <td>[War novel, Roman à clef]</td>\n",
       "      <td>The book tells the story of Paul Bäumer, a Ge...</td>\n",
       "      <td>the book tells the story of paul bäumer, a ger...</td>\n",
       "    </tr>\n",
       "  </tbody>\n",
       "</table>\n",
       "</div>"
      ],
      "text/plain": [
       "   WikiID                                      Title                Author  \\\n",
       "0     843                         A Clockwork Orange       Anthony Burgess   \n",
       "1     986                                 The Plague          Albert Camus   \n",
       "2    1756  An Enquiry Concerning Human Understanding            David Hume   \n",
       "3    2080                       A Fire Upon the Deep          Vernor Vinge   \n",
       "4    2152             All Quiet on the Western Front  Erich Maria Remarque   \n",
       "\n",
       "      PubDate                                              Genre  \\\n",
       "0        1962  [Science Fiction, Novella, Speculative fiction...   \n",
       "1        1947  [Existentialism, Fiction, Absurdist fiction, N...   \n",
       "2         NaN                                                      \n",
       "3         NaN  [Hard science fiction, Science Fiction, Specul...   \n",
       "4  1929-01-29                          [War novel, Roman à clef]   \n",
       "\n",
       "                                          OrgSummary  \\\n",
       "0   Alex, a teenager living in near-future Englan...   \n",
       "1   The text of The Plague is divided into five p...   \n",
       "2   The argument of the Enquiry proceeds by a ser...   \n",
       "3   The novel posits that space around the Milky ...   \n",
       "4   The book tells the story of Paul Bäumer, a Ge...   \n",
       "\n",
       "                                             Summary  \n",
       "0  alex, a teenager living in near-future england...  \n",
       "1  the text of the plague is divided into five pa...  \n",
       "2  the argument of the enquiry proceeds by a seri...  \n",
       "3  the novel posits that space around the milky w...  \n",
       "4  the book tells the story of paul bäumer, a ger...  "
      ]
     },
     "execution_count": 41,
     "metadata": {},
     "output_type": "execute_result"
    }
   ],
   "source": [
    "books.head()"
   ]
  },
  {
   "cell_type": "code",
   "execution_count": 42,
   "id": "1def22db",
   "metadata": {},
   "outputs": [],
   "source": [
    "from sklearn.feature_extraction.text import CountVectorizer, TfidfVectorizer"
   ]
  },
  {
   "cell_type": "code",
   "execution_count": 43,
   "id": "ed6617d7",
   "metadata": {},
   "outputs": [],
   "source": [
    "from sklearn.metrics.pairwise import cosine_similarity"
   ]
  },
  {
   "cell_type": "code",
   "execution_count": 44,
   "id": "6a308f38",
   "metadata": {},
   "outputs": [],
   "source": [
    "from nltk.corpus import stopwords"
   ]
  },
  {
   "cell_type": "code",
   "execution_count": 45,
   "id": "4713fe3a",
   "metadata": {},
   "outputs": [],
   "source": [
    "df = books.copy()"
   ]
  },
  {
   "cell_type": "code",
   "execution_count": 46,
   "id": "0281d5a9",
   "metadata": {},
   "outputs": [
    {
     "data": {
      "text/plain": [
       "0        [Science Fiction, Novella, Speculative fiction...\n",
       "1        [Existentialism, Fiction, Absurdist fiction, N...\n",
       "2                                         --NotAvailable--\n",
       "3        [Hard science fiction, Science Fiction, Specul...\n",
       "4                                [War novel, Roman à clef]\n",
       "                               ...                        \n",
       "16553                                     --NotAvailable--\n",
       "16554                                  [Thriller, Fiction]\n",
       "16555                                      [Autobiography]\n",
       "16556                                     --NotAvailable--\n",
       "16557              [Epistolary novel, Speculative fiction]\n",
       "Name: Genre, Length: 16558, dtype: object"
      ]
     },
     "execution_count": 46,
     "metadata": {},
     "output_type": "execute_result"
    }
   ],
   "source": [
    "df.fillna(\"--NotAvailable--\")\n",
    "df[\"Genre\"].replace(\" \", \"--NotAvailable--\")"
   ]
  },
  {
   "cell_type": "code",
   "execution_count": 47,
   "id": "1a157639",
   "metadata": {},
   "outputs": [],
   "source": [
    "df[\"GenreString\"] = df[\"Genre\"].apply(lambda x: ' '.join(x))"
   ]
  },
  {
   "cell_type": "code",
   "execution_count": null,
   "id": "92565718",
   "metadata": {
    "scrolled": true
   },
   "outputs": [],
   "source": []
  },
  {
   "cell_type": "code",
   "execution_count": 48,
   "id": "81abc20d",
   "metadata": {},
   "outputs": [],
   "source": [
    "df[\"combined_text\"] = df[\"Summary\"] + \" \" + df[\"Author\"] + \" \" + df[\"GenreString\"] "
   ]
  },
  {
   "cell_type": "code",
   "execution_count": 49,
   "id": "db7f688c",
   "metadata": {},
   "outputs": [],
   "source": [
    "tf = TfidfVectorizer(analyzer = \"word\", ngram_range = (1,2), min_df = 0, stop_words = 'english')"
   ]
  },
  {
   "cell_type": "code",
   "execution_count": 50,
   "id": "dd8aa8eb",
   "metadata": {},
   "outputs": [],
   "source": [
    "tfidf_matrix = tf.fit_transform(df['combined_text'].values.astype(\"str\"))\n"
   ]
  },
  {
   "cell_type": "code",
   "execution_count": 51,
   "id": "239b90fb",
   "metadata": {},
   "outputs": [
    {
     "data": {
      "text/plain": [
       "<16558x2566210 sparse matrix of type '<class 'numpy.float64'>'\n",
       "\twith 5411467 stored elements in Compressed Sparse Row format>"
      ]
     },
     "execution_count": 51,
     "metadata": {},
     "output_type": "execute_result"
    }
   ],
   "source": [
    "\n",
    "tfidf_matrix"
   ]
  },
  {
   "cell_type": "code",
   "execution_count": 52,
   "id": "28b382cf",
   "metadata": {},
   "outputs": [],
   "source": [
    "cosine = cosine_similarity(tfidf_matrix, tfidf_matrix)"
   ]
  },
  {
   "cell_type": "code",
   "execution_count": 53,
   "id": "382fc841",
   "metadata": {},
   "outputs": [],
   "source": [
    "def get_title_from_index(Index) :\n",
    "    return df[df.Index == Index][\"Title\"].values[0]\n",
    "\n",
    "def get_index_from_title(Title) :\n",
    "    return df[df.Title == Title][\"Index\"].values[0]\n",
    "\n",
    "def get_recommendations(book) :\n",
    "    book_index = get_index_from_title(book)\n",
    "    similar_books = list(enumerate(cosine[book_index]))\n",
    "    sortedbooks = sorted(similar_books, key = lambda x:x[1] , reverse = True)[1:]\n",
    "    i = 0\n",
    "    for book in sortedbooks:\n",
    "        print(get_title_from_index(book[0]) + \" : \" + df.Author[df[\"Index\"] == book[0]] )\n",
    "        i = i+1 \n",
    "        if i > 10 :\n",
    "            break\n",
    "    "
   ]
  },
  {
   "cell_type": "code",
   "execution_count": 54,
   "id": "79454bde",
   "metadata": {},
   "outputs": [
    {
     "ename": "KeyError",
     "evalue": "'Index'",
     "output_type": "error",
     "traceback": [
      "\u001b[1;31m---------------------------------------------------------------------------\u001b[0m",
      "\u001b[1;31mKeyError\u001b[0m                                  Traceback (most recent call last)",
      "\u001b[1;32m~\\anaconda3\\lib\\site-packages\\pandas\\core\\indexes\\base.py\u001b[0m in \u001b[0;36mget_loc\u001b[1;34m(self, key, method, tolerance)\u001b[0m\n\u001b[0;32m   3628\u001b[0m             \u001b[1;32mtry\u001b[0m\u001b[1;33m:\u001b[0m\u001b[1;33m\u001b[0m\u001b[1;33m\u001b[0m\u001b[0m\n\u001b[1;32m-> 3629\u001b[1;33m                 \u001b[1;32mreturn\u001b[0m \u001b[0mself\u001b[0m\u001b[1;33m.\u001b[0m\u001b[0m_engine\u001b[0m\u001b[1;33m.\u001b[0m\u001b[0mget_loc\u001b[0m\u001b[1;33m(\u001b[0m\u001b[0mcasted_key\u001b[0m\u001b[1;33m)\u001b[0m\u001b[1;33m\u001b[0m\u001b[1;33m\u001b[0m\u001b[0m\n\u001b[0m\u001b[0;32m   3630\u001b[0m             \u001b[1;32mexcept\u001b[0m \u001b[0mKeyError\u001b[0m \u001b[1;32mas\u001b[0m \u001b[0merr\u001b[0m\u001b[1;33m:\u001b[0m\u001b[1;33m\u001b[0m\u001b[1;33m\u001b[0m\u001b[0m\n",
      "\u001b[1;32m~\\anaconda3\\lib\\site-packages\\pandas\\_libs\\index.pyx\u001b[0m in \u001b[0;36mpandas._libs.index.IndexEngine.get_loc\u001b[1;34m()\u001b[0m\n",
      "\u001b[1;32m~\\anaconda3\\lib\\site-packages\\pandas\\_libs\\index.pyx\u001b[0m in \u001b[0;36mpandas._libs.index.IndexEngine.get_loc\u001b[1;34m()\u001b[0m\n",
      "\u001b[1;32mpandas\\_libs\\hashtable_class_helper.pxi\u001b[0m in \u001b[0;36mpandas._libs.hashtable.PyObjectHashTable.get_item\u001b[1;34m()\u001b[0m\n",
      "\u001b[1;32mpandas\\_libs\\hashtable_class_helper.pxi\u001b[0m in \u001b[0;36mpandas._libs.hashtable.PyObjectHashTable.get_item\u001b[1;34m()\u001b[0m\n",
      "\u001b[1;31mKeyError\u001b[0m: 'Index'",
      "\nThe above exception was the direct cause of the following exception:\n",
      "\u001b[1;31mKeyError\u001b[0m                                  Traceback (most recent call last)",
      "\u001b[1;32m~\\AppData\\Local\\Temp\\ipykernel_6108\\2538072286.py\u001b[0m in \u001b[0;36m<module>\u001b[1;34m\u001b[0m\n\u001b[1;32m----> 1\u001b[1;33m \u001b[0mprint\u001b[0m\u001b[1;33m(\u001b[0m\u001b[0mget_recommendations\u001b[0m\u001b[1;33m(\u001b[0m\u001b[1;34m\"The Stand\"\u001b[0m\u001b[1;33m)\u001b[0m\u001b[1;33m)\u001b[0m\u001b[1;33m\u001b[0m\u001b[1;33m\u001b[0m\u001b[0m\n\u001b[0m",
      "\u001b[1;32m~\\AppData\\Local\\Temp\\ipykernel_6108\\1542815223.py\u001b[0m in \u001b[0;36mget_recommendations\u001b[1;34m(book)\u001b[0m\n\u001b[0;32m      6\u001b[0m \u001b[1;33m\u001b[0m\u001b[0m\n\u001b[0;32m      7\u001b[0m \u001b[1;32mdef\u001b[0m \u001b[0mget_recommendations\u001b[0m\u001b[1;33m(\u001b[0m\u001b[0mbook\u001b[0m\u001b[1;33m)\u001b[0m \u001b[1;33m:\u001b[0m\u001b[1;33m\u001b[0m\u001b[1;33m\u001b[0m\u001b[0m\n\u001b[1;32m----> 8\u001b[1;33m     \u001b[0mbook_index\u001b[0m \u001b[1;33m=\u001b[0m \u001b[0mget_index_from_title\u001b[0m\u001b[1;33m(\u001b[0m\u001b[0mbook\u001b[0m\u001b[1;33m)\u001b[0m\u001b[1;33m\u001b[0m\u001b[1;33m\u001b[0m\u001b[0m\n\u001b[0m\u001b[0;32m      9\u001b[0m     \u001b[0msimilar_books\u001b[0m \u001b[1;33m=\u001b[0m \u001b[0mlist\u001b[0m\u001b[1;33m(\u001b[0m\u001b[0menumerate\u001b[0m\u001b[1;33m(\u001b[0m\u001b[0mcosine\u001b[0m\u001b[1;33m[\u001b[0m\u001b[0mbook_index\u001b[0m\u001b[1;33m]\u001b[0m\u001b[1;33m)\u001b[0m\u001b[1;33m)\u001b[0m\u001b[1;33m\u001b[0m\u001b[1;33m\u001b[0m\u001b[0m\n\u001b[0;32m     10\u001b[0m     \u001b[0msortedbooks\u001b[0m \u001b[1;33m=\u001b[0m \u001b[0msorted\u001b[0m\u001b[1;33m(\u001b[0m\u001b[0msimilar_books\u001b[0m\u001b[1;33m,\u001b[0m \u001b[0mkey\u001b[0m \u001b[1;33m=\u001b[0m \u001b[1;32mlambda\u001b[0m \u001b[0mx\u001b[0m\u001b[1;33m:\u001b[0m\u001b[0mx\u001b[0m\u001b[1;33m[\u001b[0m\u001b[1;36m1\u001b[0m\u001b[1;33m]\u001b[0m \u001b[1;33m,\u001b[0m \u001b[0mreverse\u001b[0m \u001b[1;33m=\u001b[0m \u001b[1;32mTrue\u001b[0m\u001b[1;33m)\u001b[0m\u001b[1;33m[\u001b[0m\u001b[1;36m1\u001b[0m\u001b[1;33m:\u001b[0m\u001b[1;33m]\u001b[0m\u001b[1;33m\u001b[0m\u001b[1;33m\u001b[0m\u001b[0m\n",
      "\u001b[1;32m~\\AppData\\Local\\Temp\\ipykernel_6108\\1542815223.py\u001b[0m in \u001b[0;36mget_index_from_title\u001b[1;34m(Title)\u001b[0m\n\u001b[0;32m      3\u001b[0m \u001b[1;33m\u001b[0m\u001b[0m\n\u001b[0;32m      4\u001b[0m \u001b[1;32mdef\u001b[0m \u001b[0mget_index_from_title\u001b[0m\u001b[1;33m(\u001b[0m\u001b[0mTitle\u001b[0m\u001b[1;33m)\u001b[0m \u001b[1;33m:\u001b[0m\u001b[1;33m\u001b[0m\u001b[1;33m\u001b[0m\u001b[0m\n\u001b[1;32m----> 5\u001b[1;33m     \u001b[1;32mreturn\u001b[0m \u001b[0mdf\u001b[0m\u001b[1;33m[\u001b[0m\u001b[0mdf\u001b[0m\u001b[1;33m.\u001b[0m\u001b[0mTitle\u001b[0m \u001b[1;33m==\u001b[0m \u001b[0mTitle\u001b[0m\u001b[1;33m]\u001b[0m\u001b[1;33m[\u001b[0m\u001b[1;34m\"Index\"\u001b[0m\u001b[1;33m]\u001b[0m\u001b[1;33m.\u001b[0m\u001b[0mvalues\u001b[0m\u001b[1;33m[\u001b[0m\u001b[1;36m0\u001b[0m\u001b[1;33m]\u001b[0m\u001b[1;33m\u001b[0m\u001b[1;33m\u001b[0m\u001b[0m\n\u001b[0m\u001b[0;32m      6\u001b[0m \u001b[1;33m\u001b[0m\u001b[0m\n\u001b[0;32m      7\u001b[0m \u001b[1;32mdef\u001b[0m \u001b[0mget_recommendations\u001b[0m\u001b[1;33m(\u001b[0m\u001b[0mbook\u001b[0m\u001b[1;33m)\u001b[0m \u001b[1;33m:\u001b[0m\u001b[1;33m\u001b[0m\u001b[1;33m\u001b[0m\u001b[0m\n",
      "\u001b[1;32m~\\anaconda3\\lib\\site-packages\\pandas\\core\\frame.py\u001b[0m in \u001b[0;36m__getitem__\u001b[1;34m(self, key)\u001b[0m\n\u001b[0;32m   3503\u001b[0m             \u001b[1;32mif\u001b[0m \u001b[0mself\u001b[0m\u001b[1;33m.\u001b[0m\u001b[0mcolumns\u001b[0m\u001b[1;33m.\u001b[0m\u001b[0mnlevels\u001b[0m \u001b[1;33m>\u001b[0m \u001b[1;36m1\u001b[0m\u001b[1;33m:\u001b[0m\u001b[1;33m\u001b[0m\u001b[1;33m\u001b[0m\u001b[0m\n\u001b[0;32m   3504\u001b[0m                 \u001b[1;32mreturn\u001b[0m \u001b[0mself\u001b[0m\u001b[1;33m.\u001b[0m\u001b[0m_getitem_multilevel\u001b[0m\u001b[1;33m(\u001b[0m\u001b[0mkey\u001b[0m\u001b[1;33m)\u001b[0m\u001b[1;33m\u001b[0m\u001b[1;33m\u001b[0m\u001b[0m\n\u001b[1;32m-> 3505\u001b[1;33m             \u001b[0mindexer\u001b[0m \u001b[1;33m=\u001b[0m \u001b[0mself\u001b[0m\u001b[1;33m.\u001b[0m\u001b[0mcolumns\u001b[0m\u001b[1;33m.\u001b[0m\u001b[0mget_loc\u001b[0m\u001b[1;33m(\u001b[0m\u001b[0mkey\u001b[0m\u001b[1;33m)\u001b[0m\u001b[1;33m\u001b[0m\u001b[1;33m\u001b[0m\u001b[0m\n\u001b[0m\u001b[0;32m   3506\u001b[0m             \u001b[1;32mif\u001b[0m \u001b[0mis_integer\u001b[0m\u001b[1;33m(\u001b[0m\u001b[0mindexer\u001b[0m\u001b[1;33m)\u001b[0m\u001b[1;33m:\u001b[0m\u001b[1;33m\u001b[0m\u001b[1;33m\u001b[0m\u001b[0m\n\u001b[0;32m   3507\u001b[0m                 \u001b[0mindexer\u001b[0m \u001b[1;33m=\u001b[0m \u001b[1;33m[\u001b[0m\u001b[0mindexer\u001b[0m\u001b[1;33m]\u001b[0m\u001b[1;33m\u001b[0m\u001b[1;33m\u001b[0m\u001b[0m\n",
      "\u001b[1;32m~\\anaconda3\\lib\\site-packages\\pandas\\core\\indexes\\base.py\u001b[0m in \u001b[0;36mget_loc\u001b[1;34m(self, key, method, tolerance)\u001b[0m\n\u001b[0;32m   3629\u001b[0m                 \u001b[1;32mreturn\u001b[0m \u001b[0mself\u001b[0m\u001b[1;33m.\u001b[0m\u001b[0m_engine\u001b[0m\u001b[1;33m.\u001b[0m\u001b[0mget_loc\u001b[0m\u001b[1;33m(\u001b[0m\u001b[0mcasted_key\u001b[0m\u001b[1;33m)\u001b[0m\u001b[1;33m\u001b[0m\u001b[1;33m\u001b[0m\u001b[0m\n\u001b[0;32m   3630\u001b[0m             \u001b[1;32mexcept\u001b[0m \u001b[0mKeyError\u001b[0m \u001b[1;32mas\u001b[0m \u001b[0merr\u001b[0m\u001b[1;33m:\u001b[0m\u001b[1;33m\u001b[0m\u001b[1;33m\u001b[0m\u001b[0m\n\u001b[1;32m-> 3631\u001b[1;33m                 \u001b[1;32mraise\u001b[0m \u001b[0mKeyError\u001b[0m\u001b[1;33m(\u001b[0m\u001b[0mkey\u001b[0m\u001b[1;33m)\u001b[0m \u001b[1;32mfrom\u001b[0m \u001b[0merr\u001b[0m\u001b[1;33m\u001b[0m\u001b[1;33m\u001b[0m\u001b[0m\n\u001b[0m\u001b[0;32m   3632\u001b[0m             \u001b[1;32mexcept\u001b[0m \u001b[0mTypeError\u001b[0m\u001b[1;33m:\u001b[0m\u001b[1;33m\u001b[0m\u001b[1;33m\u001b[0m\u001b[0m\n\u001b[0;32m   3633\u001b[0m                 \u001b[1;31m# If we have a listlike key, _check_indexing_error will raise\u001b[0m\u001b[1;33m\u001b[0m\u001b[1;33m\u001b[0m\u001b[0m\n",
      "\u001b[1;31mKeyError\u001b[0m: 'Index'"
     ]
    }
   ],
   "source": [
    "print(get_recommendations(\"The Stand\"))"
   ]
  },
  {
   "cell_type": "code",
   "execution_count": null,
   "id": "8ac2038f",
   "metadata": {},
   "outputs": [],
   "source": [
    "index = list(range(1,len(df)+1))"
   ]
  },
  {
   "cell_type": "code",
   "execution_count": null,
   "id": "d5b089e9",
   "metadata": {},
   "outputs": [],
   "source": [
    "df.insert(0,\"Index\", index)"
   ]
  },
  {
   "cell_type": "code",
   "execution_count": null,
   "id": "3ea07f72",
   "metadata": {},
   "outputs": [],
   "source": [
    "df.head()"
   ]
  },
  {
   "cell_type": "code",
   "execution_count": null,
   "id": "ba4b8f3c",
   "metadata": {},
   "outputs": [],
   "source": [
    "i = 2231\n",
    "df[df.Index == i]"
   ]
  },
  {
   "cell_type": "code",
   "execution_count": null,
   "id": "efdbb570",
   "metadata": {},
   "outputs": [],
   "source": [
    "df[\"combined_text\"].isnull().sum()"
   ]
  },
  {
   "cell_type": "code",
   "execution_count": null,
   "id": "4219ff87",
   "metadata": {},
   "outputs": [],
   "source": [
    "print(get_recommendations(\"A Clockwork Orange\"))"
   ]
  },
  {
   "cell_type": "code",
   "execution_count": null,
   "id": "c99eff60",
   "metadata": {},
   "outputs": [],
   "source": [
    "df.to_csv('rsdf.csv')"
   ]
  },
  {
   "cell_type": "code",
   "execution_count": null,
   "id": "aed2203b",
   "metadata": {},
   "outputs": [],
   "source": [
    "books.to_csv('rsbooks.csv')"
   ]
  },
  {
   "cell_type": "code",
   "execution_count": null,
   "id": "d7be4774",
   "metadata": {},
   "outputs": [],
   "source": []
  },
  {
   "cell_type": "code",
   "execution_count": null,
   "id": "a4050119",
   "metadata": {},
   "outputs": [],
   "source": []
  },
  {
   "cell_type": "code",
   "execution_count": null,
   "id": "f7edd281",
   "metadata": {},
   "outputs": [],
   "source": []
  },
  {
   "cell_type": "code",
   "execution_count": null,
   "id": "149a10f0",
   "metadata": {},
   "outputs": [],
   "source": []
  }
 ],
 "metadata": {
  "kernelspec": {
   "display_name": "Python 3 (ipykernel)",
   "language": "python",
   "name": "python3"
  },
  "language_info": {
   "codemirror_mode": {
    "name": "ipython",
    "version": 3
   },
   "file_extension": ".py",
   "mimetype": "text/x-python",
   "name": "python",
   "nbconvert_exporter": "python",
   "pygments_lexer": "ipython3",
   "version": "3.9.13"
  }
 },
 "nbformat": 4,
 "nbformat_minor": 5
}
